{
 "cells": [
  {
   "cell_type": "code",
   "execution_count": 1,
   "id": "cd5f7167",
   "metadata": {},
   "outputs": [],
   "source": [
    "import json\n",
    "import jsonlines\n",
    "import pandas as pd"
   ]
  },
  {
   "cell_type": "code",
   "execution_count": 64,
   "id": "4c16de0a",
   "metadata": {},
   "outputs": [],
   "source": [
    "prediction_output = 'r001.out.predict'"
   ]
  },
  {
   "cell_type": "code",
   "execution_count": 65,
   "id": "57ac5305",
   "metadata": {},
   "outputs": [
    {
     "name": "stdout",
     "output_type": "stream",
     "text": [
      "[[[5, 6], [9, 15], [58, 60]], [[20, 22], [25, 26], [62, 65], [144, 147]], [[28, 31], [35, 37], [202, 204]], [[48, 50], [54, 56], [68, 70], [77, 77], [106, 108], [149, 151], [176, 178]], [[72, 75], [169, 170], [198, 199]], [[99, 103], [118, 124]], [[127, 129], [183, 184]], [[131, 135], [180, 181]], [[137, 138]], [[141, 142]], [[186, 186]], [[215, 216], [222, 222], [240, 241], [260, 261], [267, 268]], [[218, 218], [225, 232], [243, 243], [253, 258]]]\n",
      "[['[CLS]', 'Step', '1', ':', 'Heat', 'the', 'oil', '.', 'Put', 'two', 'tea', '##sp', '##oons', 'of', 'olive', 'oil', 'in', 'a', 'medium', 'sized', 'f', '##rying', 'pan', '.', 'Place', 'the', 'pan', 'on', 'the', 'stove', 'burn', '##er', '.', 'Turn', 'on', 'the', 'burn', '##er', 'to', 'medium', '-', 'high', 'heat', '.', 'Step', '2', ':', 'Cook', 'the', 'on', '##ions', '.', 'Ad', '##d', 'the', 'on', '##ions', 'to', 'the', 'hot', 'oil', 'in', 'the', 'f', '##rying', 'pan', '.', 'Fry', 'the', 'on', '##ions', 'over', 'medium', '-', 'high', 'heat', 'until', 'they', 'are', 'soft', 'and', 'begin', 'to', 'brown', '.', 'This', 'should', 'take', 'about', '2', '-', '3', 'minutes', '.', 'Step', '3', ':', 'Ad', '##d', 'the', 'remaining', 'vegetables', 'and', 'spices', '.', 'Once', 'the', 'on', '##ions', 'are', 'soft', 'and', 'have', 'begun', 'to', 'brown', ',', 'add', 'the', 'rest', 'of', 'the', 've', '##gg', '##ies', '.', 'Place', 'the', 'bell', 'pepper', ',', 'Porto', '##bell', '##o', 'mushroom', '##s', ',', 'ore', '##gano', ',', 'and', 'black', 'pepper', 'in', 'the', 'f', '##rying', 'pan', 'with', 'the', 'on', '##ions', '.', 'Cook', 'until', 'soft', '.', 'This', 'will', 'take', 'about', '7', 'minutes', '.', 'Step', '4', ':', 'Red', '##uce', 'the', 'heat', '.', 'After', 'you', 'have', 'cooked', 'the', 'on', '##ions', ',', 'mushroom', '##s', ',', 'bell', 'pepper', 'and', 'spices', 'together', 'for', 'about', '7', 'minutes', ',', 'you', 'will', 'need', 'to', 'reduce', 'the', 'heat', '.', 'Turn', 'the', 'burn', '##er', 'down', 'to', 'low', 'heat', '.', 'Step', '5', ':', 'Co', '##at', 'the', 'vegetables', 'with', 'flour', '.', 'Use', 'your', 'hands', 'to', 'take', 'a', 'pinch', 'of', 'the', 'tables', '##poon', 'of', 'flour', '.', 'Light', '##ly', 's', '##p', '##rin', '##kle', 'the', 'vegetables', 'with', 'flour', '.', 'Rep', '##eat', 'until', 'you', 'have', 's', '##p', '##rinkled', 'the', 'entire', 'tables', '##poon', 'of', 'flour', 'over', 'the', 'vegetables', '.', 'St', '##ir', 'to', 'coat', 'the', 'vegetables', '.', '[SEP]']]\n",
      "[[[17, 22], [25, 26], [62, 65], [144, 147]], [[28, 31], [35, 37], [202, 204]], [[48, 50], [54, 56], [68, 70], [77, 77], [106, 108], [149, 151]], [[99, 103], [176, 186]], [[169, 170], [198, 199]], [[215, 216], [240, 241], [260, 261], [267, 268]]]\n"
     ]
    }
   ],
   "source": [
    "with jsonlines.open(prediction_output) as reader:\n",
    "    for obj in reader:\n",
    "        print(obj['clusters'])\n",
    "        print(obj['sentences'])\n",
    "        print(obj['predicted_clusters'])"
   ]
  },
  {
   "cell_type": "code",
   "execution_count": 66,
   "id": "6a32651f",
   "metadata": {},
   "outputs": [
    {
     "data": {
      "text/plain": [
       "271"
      ]
     },
     "execution_count": 66,
     "metadata": {},
     "output_type": "execute_result"
    }
   ],
   "source": [
    "len((obj['sentences'][0]))"
   ]
  },
  {
   "cell_type": "markdown",
   "id": "b24ad64d",
   "metadata": {},
   "source": [
    "## Gold clusters"
   ]
  },
  {
   "cell_type": "code",
   "execution_count": 67,
   "id": "5e0e7e78",
   "metadata": {},
   "outputs": [
    {
     "name": "stdout",
     "output_type": "stream",
     "text": [
      "[[['the', 'oil'], ['two', 'tea', '##sp', '##oons', 'of', 'olive', 'oil'], ['the', 'hot', 'oil']], [['f', '##rying', 'pan'], ['the', 'pan'], ['the', 'f', '##rying', 'pan'], ['the', 'f', '##rying', 'pan']], [['the', 'stove', 'burn', '##er'], ['the', 'burn', '##er'], ['the', 'burn', '##er']], [['the', 'on', '##ions'], ['the', 'on', '##ions'], ['the', 'on', '##ions'], ['they'], ['the', 'on', '##ions'], ['the', 'on', '##ions'], ['the', 'on', '##ions']], [['medium', '-', 'high', 'heat'], ['the', 'heat'], ['the', 'heat']], [['the', 'remaining', 'vegetables', 'and', 'spices'], ['the', 'rest', 'of', 'the', 've', '##gg', '##ies']], [['the', 'bell', 'pepper'], ['bell', 'pepper']], [['Porto', '##bell', '##o', 'mushroom', '##s'], ['mushroom', '##s']], [['ore', '##gano']], [['black', 'pepper']], [['spices']], [['the', 'vegetables'], ['hands'], ['the', 'vegetables'], ['the', 'vegetables'], ['the', 'vegetables']], [['flour'], ['a', 'pinch', 'of', 'the', 'tables', '##poon', 'of', 'flour'], ['flour'], ['the', 'entire', 'tables', '##poon', 'of', 'flour']]]\n"
     ]
    }
   ],
   "source": [
    "trans1 = []\n",
    "trans2 = []\n",
    "trans3 = []\n",
    "clusters = 'clusters'\n",
    "\n",
    "for i in range(len(obj[clusters])):\n",
    "    #print(obj['clusters'][i])\n",
    "    for j in range(len(obj[clusters][i])):\n",
    "        #print(obj[clusters][i][j])\n",
    "        if obj[clusters][i][j][0] < len(obj['sentences'][0]):\n",
    "            start = obj[clusters][i][j][0]\n",
    "            end = obj[clusters][i][j][1]\n",
    "            trans1 = obj['sentences'][0][start:end+1]\n",
    "            #print(obj['sentences'][0][start:end+1])\n",
    "        if obj[clusters][i][j][0] > len(obj['sentences'][0]):##\n",
    "            start = obj[clusters][i][j][0] - len(obj['sentences'][0]) \n",
    "            end = obj[clusters][i][j][1] - len(obj['sentences'][0])\n",
    "            trans1 = obj['sentences'][1][start:end+1]\n",
    "            #print(obj['sentences'][0][start-1:end+1]) \n",
    "        trans2.append(trans1)\n",
    "        #print('trans2: ', trans2)\n",
    "        trans1 = []\n",
    "    trans3.append(trans2)\n",
    "    #print('trans3: ', trans3)\n",
    "    trans2 = []\n",
    "print(trans3)"
   ]
  },
  {
   "cell_type": "markdown",
   "id": "c19e6a99",
   "metadata": {},
   "source": [
    "## Predicted clusters"
   ]
  },
  {
   "cell_type": "code",
   "execution_count": 68,
   "id": "506be724",
   "metadata": {},
   "outputs": [
    {
     "name": "stdout",
     "output_type": "stream",
     "text": [
      "[[['a', 'medium', 'sized', 'f', '##rying', 'pan'], ['the', 'pan'], ['the', 'f', '##rying', 'pan'], ['the', 'f', '##rying', 'pan']], [['the', 'stove', 'burn', '##er'], ['the', 'burn', '##er'], ['the', 'burn', '##er']], [['the', 'on', '##ions'], ['the', 'on', '##ions'], ['the', 'on', '##ions'], ['they'], ['the', 'on', '##ions'], ['the', 'on', '##ions']], [['the', 'remaining', 'vegetables', 'and', 'spices'], ['the', 'on', '##ions', ',', 'mushroom', '##s', ',', 'bell', 'pepper', 'and', 'spices']], [['the', 'heat'], ['the', 'heat']], [['the', 'vegetables'], ['the', 'vegetables'], ['the', 'vegetables'], ['the', 'vegetables']]]\n"
     ]
    }
   ],
   "source": [
    "trans1 = []\n",
    "trans2 = []\n",
    "trans3 = []\n",
    "clusters = 'predicted_clusters'\n",
    "\n",
    "for i in range(len(obj[clusters])):\n",
    "    #print(obj['clusters'][i])\n",
    "    for j in range(len(obj[clusters][i])):\n",
    "        #print(obj[clusters][i][j])\n",
    "        if obj[clusters][i][j][0] < len(obj['sentences'][0]):\n",
    "            start = obj[clusters][i][j][0]\n",
    "            end = obj[clusters][i][j][1]\n",
    "            trans1 = obj['sentences'][0][start:end+1]\n",
    "            #print(obj['sentences'][0][start:end+1])\n",
    "        if obj[clusters][i][j][0] > len(obj['sentences'][0]):##\n",
    "            start = obj[clusters][i][j][0] - len(obj['sentences'][0]) \n",
    "            end = obj[clusters][i][j][1] - len(obj['sentences'][0])\n",
    "            trans1 = obj['sentences'][1][start:end+1]\n",
    "            #print(obj['sentences'][0][start-1:end+1]) \n",
    "        trans2.append(trans1)\n",
    "        #print('trans2: ', trans2)\n",
    "        trans1 = []\n",
    "    trans3.append(trans2)\n",
    "    #print('trans3: ', trans3)\n",
    "    trans2 = []\n",
    "print(trans3)"
   ]
  },
  {
   "cell_type": "code",
   "execution_count": null,
   "id": "d860d8b5",
   "metadata": {},
   "outputs": [],
   "source": []
  }
 ],
 "metadata": {
  "kernelspec": {
   "display_name": "Python 3",
   "language": "python",
   "name": "python3"
  },
  "language_info": {
   "codemirror_mode": {
    "name": "ipython",
    "version": 3
   },
   "file_extension": ".py",
   "mimetype": "text/x-python",
   "name": "python",
   "nbconvert_exporter": "python",
   "pygments_lexer": "ipython3",
   "version": "3.6.3"
  }
 },
 "nbformat": 4,
 "nbformat_minor": 5
}
